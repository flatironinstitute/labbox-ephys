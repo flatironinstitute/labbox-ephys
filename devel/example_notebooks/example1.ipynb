{
 "cells": [
  {
   "cell_type": "markdown",
   "metadata": {},
   "source": [
    "# labbox_ephys_widgets_jp example\n",
    "\n",
    "**Hint: to avoid git conflicts, make a copy of this notebook prior to running. If changes are made, always clear the output cells prior to committing.**"
   ]
  },
  {
   "cell_type": "code",
   "execution_count": 1,
   "metadata": {},
   "outputs": [],
   "source": [
    "import spikeextractors as se\n",
    "import numpy as np\n",
    "import labbox_ephys as le\n",
    "import labbox_ephys_widgets_jp as lew\n",
    "import kachery_p2p as kp"
   ]
  },
  {
   "cell_type": "code",
   "execution_count": 2,
   "metadata": {},
   "outputs": [
    {
     "name": "stderr",
     "output_type": "stream",
     "text": [
      "/home/magland/miniconda3/envs/dev/lib/python3.8/site-packages/ipykernel/ipkernel.py:287: DeprecationWarning: `should_run_async` will not call `transform_cell` automatically in the future. Please pass the result to `transformed_cell` argument and any exception that happen during thetransform in `preprocessing_exc_tuple` in IPython 7.17 and above.\n",
      "  and should_run_async(code)\n"
     ]
    }
   ],
   "source": [
    "# Prepare recording and sorting extractors\n",
    "# These must be of type le.LabboxEphysRecordingExtractor / le.LabboxEphysSortingExtractor\n",
    "# However, the below code shows how to wrap any SpikeInterface extractors using from_memory(...)\n",
    "\n",
    "def prepare_recording_sorting():\n",
    "    # Simulate a recording (toy example)\n",
    "    recording, sorting = se.example_datasets.toy_example(duration=50, num_channels=8, K=5, seed=1)\n",
    "    R = le.LabboxEphysRecordingExtractor.from_memory(recording, serialize=True, serialize_dtype=np.int16)\n",
    "    S = le.LabboxEphysSortingExtractor.from_memory(sorting, serialize=True)\n",
    "    return R, S\n",
    "\n",
    "recording, sorting = prepare_recording_sorting()"
   ]
  },
  {
   "cell_type": "code",
   "execution_count": 3,
   "metadata": {},
   "outputs": [
    {
     "name": "stdout",
     "output_type": "stream",
     "text": [
      "feed://1c4a7cff1ab18e0bb285e8f6c8ab833fb31f6e1f9f620efb4c2e509337bab699/~b5bc8be58d801e3e4f76e8f33733437c2808a80c\n"
     ]
    }
   ],
   "source": [
    "# Create a feed for curation (will persist in the kachery feed database)\n",
    "feed = kp.load_feed('test1', create=True)\n",
    "curation_subfeed = feed.get_subfeed({'name': 'curation1'})\n",
    "curation_uri = curation_subfeed.get_uri()\n",
    "print(curation_uri)"
   ]
  },
  {
   "cell_type": "code",
   "execution_count": 4,
   "metadata": {},
   "outputs": [
    {
     "data": {
      "application/vnd.jupyter.widget-view+json": {
       "model_id": "4264e48013c14fa986dc30369221b379",
       "version_major": 2,
       "version_minor": 0
      },
      "text/plain": [
       "SortingView(recordingInfo={'sampling_frequency': 30000.0, 'channel_ids': [0, 1, 2, 3, 4, 5, 6, 7], 'channel_gr…"
      ]
     },
     "metadata": {},
     "output_type": "display_data"
    }
   ],
   "source": [
    "# Launch the MVSortingView for visualization and to perform curation\n",
    "# Try selecting one or more units and marking them as accepted\n",
    "\n",
    "X = lew.sorting_views.MVSortingView(sorting=sorting, recording=recording, curation_subfeed=curation_subfeed, height=600)\n",
    "display(X)"
   ]
  },
  {
   "cell_type": "code",
   "execution_count": null,
   "metadata": {},
   "outputs": [],
   "source": [
    "# Now retrieve the curation object here\n",
    "curation = X.get_curation()\n",
    "display(curation)\n",
    "# example output: {'labelsByUnit': {'1': ['accept'], '2': ['accept']}}"
   ]
  },
  {
   "cell_type": "code",
   "execution_count": null,
   "metadata": {},
   "outputs": [],
   "source": [
    "# Similarly, retrieve the selected units\n",
    "selection = X.get_selection()\n",
    "display(selection)\n",
    "# example output: {'selectedUnitIds': [1, 2, 5]}"
   ]
  },
  {
   "cell_type": "code",
   "execution_count": null,
   "metadata": {},
   "outputs": [],
   "source": [
    "# You can set external metrics that will appear in the units table\n",
    "m = [{'name': 'test', 'label': 'Test metric', 'tooltip': 'Test metric', 'data': {'1': 10, '2': 20, '3': 30}}]\n",
    "X.set_external_unit_metrics(m)"
   ]
  },
  {
   "cell_type": "code",
   "execution_count": null,
   "metadata": {},
   "outputs": [],
   "source": [
    "# It is also possible to view individual widgets (instead of launching MVSortingView)\n",
    "lew.sorting_views.AverageWaveforms(sorting=sorting, recording=recording)"
   ]
  },
  {
   "cell_type": "code",
   "execution_count": null,
   "metadata": {},
   "outputs": [],
   "source": [
    "lew.sorting_views.ElectrodeGeometry(sorting=sorting, recording=recording)"
   ]
  },
  {
   "cell_type": "code",
   "execution_count": null,
   "metadata": {},
   "outputs": [],
   "source": [
    "lew.sorting_views.Autocorrelograms(sorting=sorting, recording=recording)"
   ]
  },
  {
   "cell_type": "code",
   "execution_count": null,
   "metadata": {},
   "outputs": [],
   "source": [
    "lew.sorting_views.CrossCorrelograms(sorting=sorting, recording=recording)"
   ]
  },
  {
   "cell_type": "code",
   "execution_count": null,
   "metadata": {},
   "outputs": [],
   "source": [
    "lew.sorting_views.Timeseries(recording=recording, sorting=sorting)"
   ]
  },
  {
   "cell_type": "code",
   "execution_count": null,
   "metadata": {},
   "outputs": [],
   "source": []
  }
 ],
 "metadata": {
  "kernelspec": {
   "display_name": "Python 3",
   "language": "python",
   "name": "python3"
  },
  "language_info": {
   "codemirror_mode": {
    "name": "ipython",
    "version": 3
   },
   "file_extension": ".py",
   "mimetype": "text/x-python",
   "name": "python",
   "nbconvert_exporter": "python",
   "pygments_lexer": "ipython3",
   "version": "3.8.5"
  }
 },
 "nbformat": 4,
 "nbformat_minor": 4
}
