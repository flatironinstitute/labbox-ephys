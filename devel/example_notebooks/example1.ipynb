{
 "cells": [
  {
   "cell_type": "markdown",
   "metadata": {},
   "source": [
    "# labbox_ephys_widgets_jp example\n",
    "\n",
    "**Hint: to avoid git conflicts, make a copy of this notebook prior to running. If changes are made, always clear the output cells prior to committing.**"
   ]
  },
  {
   "cell_type": "code",
   "execution_count": null,
   "metadata": {},
   "outputs": [],
   "source": [
    "import spikeextractors as se\n",
    "import numpy as np\n",
    "import labbox_ephys as le"
   ]
  },
  {
   "cell_type": "code",
   "execution_count": null,
   "metadata": {},
   "outputs": [],
   "source": [
    "# Prepare recording and sorting extractors\n",
    "# These must be of type le.LabboxEphysRecordingExtractor / le.LabboxEphysSortingExtractor\n",
    "# However, the below code shows how to wrap any SpikeInterface extractors using from_memory(...)\n",
    "\n",
    "def prepare_recording_sorting():\n",
    "    # Simulate a recording (toy example)\n",
    "    recording, sorting = se.example_datasets.toy_example(duration=50, num_channels=8, K=5, seed=1)\n",
    "    R = le.LabboxEphysRecordingExtractor.from_memory(recording, serialize=True, serialize_dtype=np.int16)\n",
    "    S = le.LabboxEphysSortingExtractor.from_memory(sorting, serialize=True)\n",
    "    return R, S\n",
    "\n",
    "recording, sorting = prepare_recording_sorting()"
   ]
  },
  {
   "cell_type": "code",
   "execution_count": null,
   "metadata": {},
   "outputs": [],
   "source": [
    "# Launch the MVSortingView for visualization and to perform curation\n",
    "# Try selecting one or more units and marking them as accepted\n",
    "\n",
    "X = le.sorting_views.MVSortingView(sorting=sorting, recording=recording)\n",
    "display(X)"
   ]
  },
  {
   "cell_type": "code",
   "execution_count": null,
   "metadata": {},
   "outputs": [],
   "source": [
    "# Now retrieve the curation object here\n",
    "curation = X.get_curation()\n",
    "display(curation)\n",
    "# example output: {'labelsByUnit': {'1': ['accept'], '2': ['accept']}}"
   ]
  },
  {
   "cell_type": "code",
   "execution_count": null,
   "metadata": {},
   "outputs": [],
   "source": [
    "# You can manipulate the curation via python and then set the mutated object back to the GUI\n",
    "# Note: this doesn't seem to be working at the moment\n",
    "if 'labelsByUnit' not in curation: curation['labelsByUnit'] = {}\n",
    "curation['labelsByUnit']['4'] = ['reject']\n",
    "X.set_curation(curation)"
   ]
  },
  {
   "cell_type": "code",
   "execution_count": null,
   "metadata": {},
   "outputs": [],
   "source": [
    "# Similarly, retrieve the selected units\n",
    "selection = X.get_selection()\n",
    "display(selection)\n",
    "# example output: {'selectedUnitIds': [1, 2, 5]}"
   ]
  },
  {
   "cell_type": "code",
   "execution_count": null,
   "metadata": {},
   "outputs": [],
   "source": [
    "# You can set external metrics that will appear in the units table\n",
    "m = [{'name': 'test', 'label': 'Test metric', 'tooltip': 'Test metric', 'data': {'1': 10, '2': 20, '3': 30}}]\n",
    "X.set_external_unit_metrics(m)"
   ]
  },
  {
   "cell_type": "code",
   "execution_count": null,
   "metadata": {},
   "outputs": [],
   "source": [
    "# It is also possible to view individual widgets (instead of launching MVSortingView)\n",
    "le.sorting_views.AverageWaveforms(sorting=sorting, recording=recording)"
   ]
  },
  {
   "cell_type": "code",
   "execution_count": null,
   "metadata": {},
   "outputs": [],
   "source": [
    "le.sorting_views.ElectrodeGeometry(sorting=sorting, recording=recording)"
   ]
  },
  {
   "cell_type": "code",
   "execution_count": null,
   "metadata": {},
   "outputs": [],
   "source": [
    "le.sorting_views.Autocorrelograms(sorting=sorting, recording=recording)"
   ]
  },
  {
   "cell_type": "code",
   "execution_count": null,
   "metadata": {},
   "outputs": [],
   "source": [
    "le.sorting_views.CrossCorrelograms(sorting=sorting, recording=recording)"
   ]
  },
  {
   "cell_type": "code",
   "execution_count": null,
   "metadata": {},
   "outputs": [],
   "source": [
    "le.sorting_views.Timeseries(recording=recording, sorting=sorting)"
   ]
  }
 ],
 "metadata": {
  "kernelspec": {
   "display_name": "Python 3",
   "language": "python",
   "name": "python3"
  },
  "language_info": {
   "codemirror_mode": {
    "name": "ipython",
    "version": 3
   },
   "file_extension": ".py",
   "mimetype": "text/x-python",
   "name": "python",
   "nbconvert_exporter": "python",
   "pygments_lexer": "ipython3",
   "version": "3.8.5"
  }
 },
 "nbformat": 4,
 "nbformat_minor": 4
}
